{
 "cells": [
  {
   "cell_type": "code",
   "execution_count": 1,
   "id": "e010d3bf-117b-4625-8499-3a89b9c7af94",
   "metadata": {
    "tags": []
   },
   "outputs": [],
   "source": [
    "import os\n",
    "os.environ[\"CUDA_VISIBLE_DEVICES\"] = '2'"
   ]
  },
  {
   "cell_type": "code",
   "execution_count": 2,
   "id": "b275011d-67db-4fab-8938-0fb4ea953ebe",
   "metadata": {
    "tags": []
   },
   "outputs": [],
   "source": [
    "import torch"
   ]
  },
  {
   "cell_type": "code",
   "execution_count": 3,
   "id": "b6c1e09e-221a-4444-afff-8681b9b9a038",
   "metadata": {
    "tags": []
   },
   "outputs": [],
   "source": [
    "import torch\n",
    "import esm\n",
    "\n",
    "model = esm.pretrained.esmfold_v1()\n",
    "model = model.eval().cuda()\n",
    "\n",
    "# Optionally, uncomment to set a chunk size for axial attention. This can help reduce memory.\n",
    "# Lower sizes will have lower memory requirements at the cost of increased speed.\n",
    "# model.set_chunk_size(128)\n",
    "\n",
    "sequence = \"MEPSLLSLFVLGVVALTETRAGSHSLRYFDTAMSRPELGDSQFISVGYVDDQQFVRFDSSSESPRMEPRAAWMDKVDQEDPNYWEGQTQISRSNAQITRVGLETIRGYYNQSRGGLHTYQTMIGCEVHPDGSFRKGFWQHAYDGHDYIALDRETLTWTAADPGAENTKRKWEAERSIAERYKAYLEEECVQWLKKYLQMGKDVLLRTEPSSARVSRHSGPDGEVSLRCRAQGFYPAEISLTWLRDGEEQLQDTEFIETRPGGDGTFQKWAAVAMAPGQEDRYSCRVQHEALAQPLSLRWEPEASSLWVIVGVTAGVLVLVTAVVAGAVILRRRNSGGKGGAYVPGAA\"\n",
    "# Multimer prediction can be done with chains separated by ':'\n",
    "\n",
    "with torch.no_grad():\n",
    "    output = model.infer_pdb(sequence, gap_info_list=None)\n",
    "\n",
    "with open(\"result.pdb\", \"w\") as f:\n",
    "    f.write(output)"
   ]
  },
  {
   "cell_type": "code",
   "execution_count": 4,
   "id": "c750353a-7fbe-41ff-b3fb-919bf16d0fea",
   "metadata": {
    "tags": []
   },
   "outputs": [
    {
     "name": "stdout",
     "output_type": "stream",
     "text": [
      "69.77741511500548\n"
     ]
    }
   ],
   "source": [
    "\n",
    "with torch.no_grad():\n",
    "    output = model.infer_pdb(sequence, gap_info_list = [[50, 200],[206, 3000],[230,500]])\n",
    "\n",
    "with open(\"result_gap.pdb\", \"w\") as f:\n",
    "    f.write(output)\n",
    "\n",
    "import biotite.structure.io as bsio\n",
    "struct = bsio.load_structure(\"result_gap.pdb\", extra_fields=[\"b_factor\"])\n",
    "print(struct.b_factor.mean())"
   ]
  },
  {
   "cell_type": "code",
   "execution_count": null,
   "id": "fec62525-51a1-496e-ba2e-610af72a99f0",
   "metadata": {},
   "outputs": [],
   "source": []
  }
 ],
 "metadata": {
  "kernelspec": {
   "display_name": "Python 3 (ipykernel)",
   "language": "python",
   "name": "python3"
  },
  "language_info": {
   "codemirror_mode": {
    "name": "ipython",
    "version": 3
   },
   "file_extension": ".py",
   "mimetype": "text/x-python",
   "name": "python",
   "nbconvert_exporter": "python",
   "pygments_lexer": "ipython3",
   "version": "3.9.7"
  }
 },
 "nbformat": 4,
 "nbformat_minor": 5
}
